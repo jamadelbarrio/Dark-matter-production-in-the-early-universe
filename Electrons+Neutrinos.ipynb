{
 "cells": [
  {
   "cell_type": "code",
   "execution_count": 132,
   "id": "542b3db3",
   "metadata": {},
   "outputs": [],
   "source": [
    "import numpy as np\n",
    "import matplotlib.pyplot as plt\n",
    "import scipy as sp\n",
    "import mpmath "
   ]
  },
  {
   "cell_type": "code",
   "execution_count": 133,
   "id": "030918dd",
   "metadata": {},
   "outputs": [],
   "source": [
    "m_e=0.511 #Mev\n",
    "m_mu=105.658 #Mev\n",
    "m_tau=1776.86 #Mev\n",
    "m_charge=[m_e,m_mu,m_tau]\n",
    "pi=np.pi\n",
    "G = 6.71*10**-45 # MeV\n",
    "Mpl = (8 * pi * G) ** (-0.5)\n",
    "yinf=4.35*10**-7 # Divided by the mass of the particle\n",
    "y0=0.0\n",
    "geff=3"
   ]
  },
  {
   "cell_type": "code",
   "execution_count": 134,
   "id": "059f92ed",
   "metadata": {},
   "outputs": [],
   "source": [
    "data = np.loadtxt('g_*s(T).txt', skiprows=1)\n",
    "t_imported = data[:, 0]\n",
    "g_star_s_imported = data[:, 1]\n",
    "def g_star_s_interp_func(t):\n",
    "    return sp.interpolate.interp1d(t_imported, g_star_s_imported, fill_value=\"extrapolate\")(t)"
   ]
  },
  {
   "cell_type": "code",
   "execution_count": 135,
   "id": "9cdd4435",
   "metadata": {},
   "outputs": [],
   "source": [
    "def bk(n,x):\n",
    "    return sp.special.kn(n,x)\n",
    "\n",
    "def gmeijer1(x):\n",
    "    x_mpf = mpmath.mpf(x)\n",
    "    try:\n",
    "        return float(mpmath.meijerg([[], [1]], [[-1/2, -1/2, 1/2], []], x_mpf**2))\n",
    "    except (ValueError, mpmath.libmp.libhyper.HypercombError):\n",
    "        return 0.0 \n",
    "\n",
    "def gmeijer2(x):\n",
    "    x_mpf = mpmath.mpf(x)\n",
    "    try:\n",
    "        return float(mpmath.meijerg([[], [2]], [[-1/2, 1/2, 1/2], []], x_mpf**2))\n",
    "    except (ValueError, mpmath.libmp.libhyper.HypercombError):\n",
    "        return 0.0 "
   ]
  },
  {
   "cell_type": "code",
   "execution_count": 136,
   "id": "752a1181",
   "metadata": {},
   "outputs": [],
   "source": [
    "def int_n_e(E, m, T):\n",
    "    arg = E / T\n",
    "    arg = np.clip(arg, None, 700)  # Avoid overflow in exp\n",
    "    return E * np.sqrt(E**2 - m**2) / (np.exp(arg) + 1)\n",
    "\n",
    "def n_e(m,T,glib):\n",
    "    int=[]\n",
    "    if m>0:\n",
    "        int.append(sp.integrate.quad(int_n_e,m,m*10,args=(m,T),epsabs=1e-10,epsrel=1e-10,limit=1000)[0])\n",
    "        for i in range(10):\n",
    "            int.append(sp.integrate.quad(int_n_e,m*10**(i+1),m*10**(i+2),args=(m,T),epsabs=1e-10,epsrel=1e-10,limit=1000)[0])\n",
    "        int1=np.sum(int)\n",
    "        return (glib/(2*np.pi**2))*int1\n",
    "    elif m==0:\n",
    "        int.append(sp.integrate.quad(int_n_e,0,1,args=(0,T),epsabs=1e-10,epsrel=1e-10,limit=1000)[0])\n",
    "        for i in range(10):\n",
    "            int.append(sp.integrate.quad(int_n_e,10**i,10**(i+1),args=(0,T),epsabs=1e-10,epsrel=1e-10,limit=1000)[0])\n",
    "        int1=np.sum(int)\n",
    "        return (glib/(2*np.pi**2))*int1\n",
    "    else:\n",
    "        print('Error: Negative mass')\n",
    "        return 0"
   ]
  },
  {
   "cell_type": "code",
   "execution_count": 137,
   "id": "9e254ccc",
   "metadata": {},
   "outputs": [],
   "source": [
    "def n_nu(T,glib):                                              # If Dirac fermions glib=4\n",
    "    return 3*glib*sp.special.zeta(3)*T**3/(4*np.pi**2)         # If Majorana fermions glib=2 \n",
    "\n",
    "def rho_nu(T,glib):                                                 # If Dirac fermions glib=4\n",
    "    return (7*glib*np.pi**2*T**4)/(240)                        # If Majorana fermions glib=2 \n",
    "\n",
    "def p_nu(T,glib):\n",
    "    return (1/3)*rho_nu(T,glib)\n",
    "\n",
    "def s_nu(T,glib):\n",
    "    return (4*rho_nu(T,glib))/(3*T)\n",
    "\n",
    "def Y_nu(T,glib):\n",
    "    return n_nu(T,glib)/s_nu(T,glib)    "
   ]
  },
  {
   "cell_type": "code",
   "execution_count": 138,
   "id": "2c5e9310",
   "metadata": {},
   "outputs": [],
   "source": [
    "def sigma_e(s,g,mchi,me):\n",
    "    sigma1=g**2/(16*pi*s**3)\n",
    "    sigma2=np.sqrt((s-4*mchi**2)/(s-4*me**2))\n",
    "    sigma31=(s**2+((s-4*me**2)*(s-4*mchi**2))/(3))\n",
    "    sigma32=4*mchi**2*(s-2*me**2)\n",
    "    sigma33=4*me**2*(s-2*mchi**2)\n",
    "    sigma34=16*mchi**2*me**2\n",
    "    return sigma1*sigma2*(sigma31+sigma32+sigma33+sigma34)\n",
    "\n",
    "def intsigma_e(s,g,mchi,T,me):\n",
    "    intsigma1=sigma_e(s,g,mchi,me)\n",
    "    intsigma2=(s-4*mchi**2)\n",
    "    intsigma3=np.sqrt(s)\n",
    "    intsigma4=bk(1,np.sqrt(s)/T)\n",
    "    return intsigma1*intsigma2*intsigma3*intsigma4\n",
    "\n",
    "def sigmav_e(g,mchi,T,me):\n",
    "    int=[]\n",
    "    n=30\n",
    "    for i in range(n):\n",
    "        int.append(sp.integrate.quad(intsigma_e,2**(2*i+2)*max(mchi**2,me**2),2**(2*i+4)*max(mchi**2,me**2),args=(g,mchi,T,me),epsabs=1e-10,epsrel=1e-10,limit=1000)[0])\n",
    "    int.append(sp.integrate.quad(intsigma_e,2**(2*n+3)*max(mchi**2,me**2),np.inf,args=(g,mchi,T,me),epsabs=1e-10,epsrel=1e-10,limit=1000)[0])\n",
    "    int2=np.sum(int)\n",
    "    if int2==0.0:\n",
    "        #print(\"Warning: sigmav_e is zero, returning 0\")\n",
    "        return 0.0\n",
    "    c1=8*mchi**4*T*bk(2,mchi/T)**2\n",
    "    return (int2)/c1\n"
   ]
  },
  {
   "cell_type": "code",
   "execution_count": 139,
   "id": "b84748bf",
   "metadata": {},
   "outputs": [],
   "source": [
    "def dYdx_e(y,x,g,mchi,me):\n",
    "    a1=sigmav_e(g,mchi,mchi/x,me)\n",
    "    a2=n_e(me,mchi/x,4)\n",
    "    a3=((2*pi**2)/45)*(mchi/x)**3*g_star_s_interp_func(mchi/x)\n",
    "    a4=(pi*(mchi/x)**2)*np.sqrt(g_star_s_interp_func(mchi/x)/90)/Mpl\n",
    "    return 2*a1*a2**2/(x*a3*a4)"
   ]
  },
  {
   "cell_type": "code",
   "execution_count": 140,
   "id": "09b55da2",
   "metadata": {},
   "outputs": [],
   "source": [
    "def sigma_nu(s,g,mchi):\n",
    "    a1=g**2/(32*pi*s**2)\n",
    "    a2=np.sqrt((s-4*mchi**2)/(s))\n",
    "    a3=(s+(s-4*mchi**2)/(3)+4*mchi**2)\n",
    "    return a1*a2*a3\n",
    "\n",
    "def intsigma_nu(s,g,mchi,T):\n",
    "    a1=sigma_nu(s,g,mchi)\n",
    "    a2=(s-4*mchi**2)\n",
    "    a3=np.sqrt(s)\n",
    "    a4=bk(1,np.sqrt(s)/T)\n",
    "    return a1*a2*a3*a4\n",
    "\n",
    "def sigmav_nu_num(g,mchi,x):\n",
    "    int=[]\n",
    "    n=50\n",
    "    for i in range(n):\n",
    "        int.append(sp.integrate.quad(intsigma_nu,2**(2*i+2)*mchi**2,2**(2*i+4)*mchi**2,args=(g,mchi,mchi/x),epsabs=1e-10,epsrel=1e-10,limit=1000)[0])\n",
    "    int.append(sp.integrate.quad(intsigma_nu,2**(2*n+3)*mchi**2,np.inf,args=(g,mchi,mchi/x),epsabs=1e-10,epsrel=1e-10,limit=1000)[0])\n",
    "    int2=np.sum(int)\n",
    "    if int2==0.0:\n",
    "        #print(\"Warning: sigmav_e is zero, returning 0\")\n",
    "        return 0.0\n",
    "    a1=x/(8*mchi**5*bk(2,x)**2)\n",
    "    return a1*(int2)\n",
    "\n",
    "def dYdx_nu_num(y,x,g,mchi):\n",
    "    a1=sigmav_nu_num(g,mchi,x)\n",
    "    a2=n_nu(mchi/x,2)\n",
    "    a3=((2*pi**2)/45)*(mchi/x)**3*g_star_s_interp_func(mchi/x)\n",
    "    a4=(pi*(mchi/x)**2)*np.sqrt(g_star_s_interp_func(mchi/x)/90)/Mpl\n",
    "    return 2*a1*a2**2/(x*a3*a4)"
   ]
  },
  {
   "cell_type": "code",
   "execution_count": 141,
   "id": "a3a2af5c",
   "metadata": {},
   "outputs": [],
   "source": [
    "# physical constant: final (instantaneous-decoupling) ratio\n",
    "TNU_OVER_TGAMMA_infty = (4.0/11.0)**(1.0/3.0)  # ~0.713766\n",
    "\n",
    "def Tnu_over_Tgamma_approx(T_gamma_MeV, Tdec=0.511, width=0.6):\n",
    "    x = np.array(T_gamma_MeV, dtype=float)\n",
    "    s = np.tanh((x - Tdec) / width)  \n",
    "    r = 0.5*(1.0 + s) * 1.0 + 0.5*(1.0 - s) * TNU_OVER_TGAMMA_infty\n",
    "    return r\n",
    "\n",
    "def Tnu_from_Tgamma(T_gamma_MeV, **kwargs):\n",
    "    return Tnu_over_Tgamma_approx(T_gamma_MeV, **kwargs) * np.array(T_gamma_MeV, dtype=float)"
   ]
  },
  {
   "cell_type": "code",
   "execution_count": 142,
   "id": "4493ff9c",
   "metadata": {},
   "outputs": [],
   "source": [
    "def sigmav_nu(g, mchi, x):\n",
    "    bk2 = bk(2, x)\n",
    "    denom = 192 * pi * mchi**3 * bk2**2\n",
    "    num = (4 * mchi * bk(1, x)**2) - (np.sqrt(pi) * mchi * x * (gmeijer1(x) + gmeijer2(x)))\n",
    "    return (g**2 / denom) * num\n",
    "\n",
    "def dYdx_nu(y,x,g,mchi):\n",
    "    T= mchi/x\n",
    "    T_nu = Tnu_from_Tgamma(T)               # We change the temperature to T_nu for the yield computations but not the evolution of the universe\n",
    "    x_nu = mchi/T_nu  \n",
    "    a1=sigmav_nu(g,mchi,x_nu)\n",
    "    a2=n_nu(mchi/x_nu,6)               # glib=6 for 3 neutrino species\n",
    "    a3=((2*pi**2)/45)*(mchi/x)**3*g_star_s_interp_func(mchi/x)\n",
    "    a4=(pi*(mchi/x)**2)*np.sqrt(g_star_s_interp_func(mchi/x)/90)/Mpl\n",
    "    return 2*a1*a2**2/(x*a3*a4)\n",
    "\n",
    "def dYdx_nu_mod(y,x,g,mchi):\n",
    "    a1=sigmav_nu(g,mchi,x)\n",
    "    a2=n_nu(mchi/x,6)               # glib=6 for 3 neutrino species\n",
    "    a3=((2*pi**2)/45)*(mchi/x)**3*g_star_s_interp_func(mchi/x)\n",
    "    a4=(pi*(mchi/x)**2)*np.sqrt(g_star_s_interp_func(mchi/x)/90)/Mpl\n",
    "    return 2*a1*a2**2/(x*a3*a4)"
   ]
  },
  {
   "cell_type": "code",
   "execution_count": 143,
   "id": "b888fb1d",
   "metadata": {},
   "outputs": [],
   "source": [
    "# Load the data from the file\n",
    "filename = f\"gCvsgnu_mchi_10.txt\"\n",
    "data = np.loadtxt(filename)\n",
    "\n",
    "# Split the data into two arrays\n",
    "gC= data[:, 0]  # First column\n",
    "yield_C= data[:, 1]  # Second column\n",
    "\n"
   ]
  },
  {
   "cell_type": "code",
   "execution_count": 144,
   "id": "ee52ad9f",
   "metadata": {},
   "outputs": [],
   "source": [
    "# Load the data from the file\n",
    "filename_gNuvsgC = \"gNuvsgC_10.txt\"\n",
    "data_gNuvsgC = np.loadtxt(filename_gNuvsgC)\n",
    "\n",
    "# Split the data into two arrays\n",
    "gNu = data_gNuvsgC[:, 0]  # First column\n",
    "yield_Nu = data_gNuvsgC[:, 1]  # Second column\n"
   ]
  },
  {
   "cell_type": "code",
   "execution_count": 145,
   "id": "7e696f05",
   "metadata": {},
   "outputs": [],
   "source": [
    "from scipy.interpolate import interp1d\n",
    "\n",
    "# Create the interpolating function\n",
    "interp_column1_from_column2 = interp1d(yield_Nu, gNu, fill_value=\"extrapolate\")\n",
    "\n",
    "value_column2 = 5e-12  # Replace with your desired value\n",
    "gC_plot=[]\n",
    "gNu_plot=[]\n",
    "for i in range(len(gC)):\n",
    "    if yinf/10-yield_C[i]>0:\n",
    "        gC_plot.append(gC[i])\n",
    "        gNu_plot.append(interp_column1_from_column2(yinf/10-yield_C[i]))\n",
    "\n"
   ]
  },
  {
   "cell_type": "code",
   "execution_count": 157,
   "id": "68a59e46",
   "metadata": {},
   "outputs": [
    {
     "data": {
      "text/plain": [
       "<matplotlib.legend.Legend at 0x7161da3b08f0>"
      ]
     },
     "execution_count": 157,
     "metadata": {},
     "output_type": "execute_result"
    },
    {
     "data": {
      "image/png": "[encoded data removed]",
      "text/plain": [
       "<Figure size 1000x600 with 1 Axes>"
      ]
     },
     "metadata": {},
     "output_type": "display_data"
    }
   ],
   "source": [
    "import matplotlib as mpl\n",
    "mpl.rcParams.update({\n",
    "    \"font.family\": \"serif\",\n",
    "    \"font.size\": 16,\n",
    "    \"axes.labelsize\": 18,\n",
    "    \"axes.titlesize\": 18,\n",
    "    \"legend.fontsize\": 15,\n",
    "    \"xtick.labelsize\": 15,\n",
    "    \"ytick.labelsize\": 15,\n",
    "    \"axes.linewidth\": 1.5,\n",
    "    \"lines.linewidth\": 2.5,\n",
    "    \"legend.frameon\": True,\n",
    "    \"legend.framealpha\": 0.98,\n",
    "    \"legend.fancybox\": True,\n",
    "    \"legend.edgecolor\": \"black\",\n",
    "    \"text.usetex\": False,\n",
    "})\n",
    "plt.figure(figsize=(10, 6))\n",
    "\n",
    "x_test = np.linspace(2*10**-13,10**-12, 1000)\n",
    "x_test2 = np.linspace(10**-14,10**-12, 1000)\n",
    "y_test1 = 4.4*10**-13 * np.ones_like(x_test)\n",
    "y_test2= 10**-12 * np.ones_like(x_test)\n",
    "\n",
    "\n",
    "plt.plot(gNu_plot, gC_plot, label='Electrons + Neutrinos')\n",
    "plt.axhline(y=4.4*10**-13, color='orange', linestyle='--', label='DAMIC-M')\n",
    "plt.fill_between(x_test,y_test1,y_test2,color='orange',alpha=0.5)\n",
    "plt.xlim(2.5*10**-13,10**-12)\n",
    "plt.ylim(5*10**-14,10**-12)\n",
    "plt.xlabel(fr'$g_\\nu$')\n",
    "plt.ylabel(fr'$g_C$')\n",
    "plt.yscale('log')\n",
    "plt.legend()"
   ]
  },
  {
   "cell_type": "code",
   "execution_count": 147,
   "id": "c5bff03f",
   "metadata": {},
   "outputs": [],
   "source": [
    "mchi=[10]\n",
    "x=np.logspace(-8,2,5000)\n",
    "g_charge=[4.4*10**-13]\n",
    "temp=[]\n",
    "yplot_e=[]\n",
    "yplot_mu=[]\n",
    "yplot_tau=[]\n",
    "yplot_total=[]\n",
    "for i in range(len(mchi)):\n",
    "    temp=[]\n",
    "    for j in range(len(m_charge)):\n",
    "        y_charge=sp.integrate.odeint(dYdx_e, y0, x,args=(g_charge[i],mchi[i],m_charge[j]), rtol=1e-12, atol=1e-12, mxstep=10000)\n",
    "        temp.append(y_charge)\n",
    "    yplot_total.append(np.sum(temp, axis=0))\n",
    "    yplot_e.append(temp[0])\n",
    "    yplot_mu.append(temp[1])\n",
    "    yplot_tau.append(temp[2])"
   ]
  },
  {
   "cell_type": "code",
   "execution_count": 148,
   "id": "52278269",
   "metadata": {},
   "outputs": [
    {
     "name": "stdout",
     "output_type": "stream",
     "text": [
      "Process is at  1  of  1\n"
     ]
    }
   ],
   "source": [
    "g_nu=[0.83*10**-12]  # Example values for g_nu, can be modified as needed\n",
    "yplot_nu1=[]\n",
    "yplot_nu=[]\n",
    "#yplot2=[]\n",
    "#yplot3=[]\n",
    "for i in range(len(mchi)):\n",
    "    #y_nu1=sp.integrate.odeint(dYdx_nu,y0,x,args=(g_nu,mchi[i]),rtol=1e-12, atol=1e-12, mxstep=10000)\n",
    "    y_nu=sp.integrate.odeint(dYdx_nu,y0,x,args=(g_nu[i],mchi[i]),rtol=1e-12, atol=1e-12, mxstep=10000)\n",
    "    #yplot_nu1.append(y_nu1)\n",
    "    yplot_nu.append(y_nu)\n",
    "    print(\"Process is at \", i+1, \" of \", len(mchi))"
   ]
  },
  {
   "cell_type": "code",
   "execution_count": 156,
   "id": "e9148bc8",
   "metadata": {
    "vscode": {
     "languageId": "javascript"
    }
   },
   "outputs": [
    {
     "data": {
      "image/png": "[encoded data removed]",
      "text/plain": [
       "<Figure size 640x480 with 1 Axes>"
      ]
     },
     "metadata": {},
     "output_type": "display_data"
    }
   ],
   "source": [
    "yplot_sum = np.array(yplot_nu[0]) + np.array(yplot_total[0])\n",
    "mpl.rcParams.update({\n",
    "    \"font.family\": \"serif\",\n",
    "    \"font.size\": 16,\n",
    "    \"axes.labelsize\": 18,\n",
    "    \"axes.titlesize\": 18,\n",
    "    \"legend.fontsize\": 15,\n",
    "    \"xtick.labelsize\": 15,\n",
    "    \"ytick.labelsize\": 15,\n",
    "    \"axes.linewidth\": 1.5,\n",
    "    \"lines.linewidth\": 2.5,\n",
    "    \"legend.frameon\": True,\n",
    "    \"legend.framealpha\": 0.98,\n",
    "    \"legend.fancybox\": True,\n",
    "    \"legend.edgecolor\": \"black\",\n",
    "    \"text.usetex\": False,\n",
    "})\n",
    "plt.plot(x, yplot_sum, label = 'Total')\n",
    "plt.plot(x, yplot_total[0], label = 'Electrons', linestyle = 'dashed')\n",
    "plt.plot(x, yplot_nu[0], label = 'Neutrinos', linestyle = 'dotted')\n",
    "plt.xlabel(fr'$x=m_\\chi/T$')\n",
    "plt.ylabel(fr'$Y=n/s$')\n",
    "plt.xscale('log')\n",
    "#plt.yscale('log')\n",
    "#plt.ylim(10**-14, 10**-6)\n",
    "plt.xlim(10**-5, 10**2)\n",
    "plt.legend()\n",
    "plt.show()\n"
   ]
  }
 ],
 "metadata": {
  "kernelspec": {
   "display_name": "base",
   "language": "python",
   "name": "python3"
  },
  "language_info": {
   "codemirror_mode": {
    "name": "ipython",
    "version": 3
   },
   "file_extension": ".py",
   "mimetype": "text/x-python",
   "name": "python",
   "nbconvert_exporter": "python",
   "pygments_lexer": "ipython3",
   "version": "3.12.2"
  }
 },
 "nbformat": 4,
 "nbformat_minor": 5
}
