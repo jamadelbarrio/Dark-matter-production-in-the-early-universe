{
 "cells": [
  {
   "cell_type": "markdown",
   "id": "b49bbb41",
   "metadata": {},
   "source": [
    "# Solving the Boltzman equation for DM Freeze-In"
   ]
  },
  {
   "cell_type": "markdown",
   "id": "92adf4cc",
   "metadata": {},
   "source": [
    "## Importing libraries"
   ]
  },
  {
   "cell_type": "code",
   "execution_count": 1,
   "id": "2e3a5da4",
   "metadata": {},
   "outputs": [],
   "source": [
    "import numpy as np\n",
    "import matplotlib.pyplot as plt\n",
    "import scipy as sp\n",
    "import mpmath "
   ]
  },
  {
   "cell_type": "markdown",
   "id": "99aeb222",
   "metadata": {},
   "source": [
    "## Usefull constants"
   ]
  },
  {
   "cell_type": "code",
   "execution_count": 2,
   "id": "d8ebaf1d",
   "metadata": {},
   "outputs": [],
   "source": [
    "m_e=0.511 #Mev\n",
    "m_mu=105.658 #Mev\n",
    "m_tau=1776.86 #Mev\n",
    "m_charge=[m_e,m_mu,m_tau]\n",
    "pi=np.pi\n",
    "G = 6.71*10**-45 # MeV\n",
    "Mpl = (8 * pi * G) ** (-0.5)\n",
    "yinf=4.35*10**-7 # Divided by the mass of the particle\n",
    "y0=0.0\n",
    "geff=3"
   ]
  },
  {
   "cell_type": "markdown",
   "id": "7c58020a",
   "metadata": {},
   "source": [
    "## Import $g_{*s}$"
   ]
  },
  {
   "cell_type": "code",
   "execution_count": 3,
   "id": "1a8834ad",
   "metadata": {},
   "outputs": [],
   "source": [
    "data = np.loadtxt('g_*s(T).txt', skiprows=1)\n",
    "t_imported = data[:, 0]\n",
    "g_star_s_imported = data[:, 1]\n",
    "def g_star_s_interp_func(t):\n",
    "    return sp.interpolate.interp1d(t_imported, g_star_s_imported, fill_value=\"extrapolate\")(t)\n"
   ]
  },
  {
   "cell_type": "markdown",
   "id": "3533edd8",
   "metadata": {},
   "source": [
    "## Math functions"
   ]
  },
  {
   "cell_type": "code",
   "execution_count": 4,
   "id": "df1bec1b",
   "metadata": {},
   "outputs": [],
   "source": [
    "def bk(n,x):\n",
    "    return sp.special.kn(n,x)\n",
    "\n",
    "def gmeijer1(x):\n",
    "    x_mpf = mpmath.mpf(x)\n",
    "    try:\n",
    "        return float(mpmath.meijerg([[], [1]], [[-1/2, -1/2, 1/2], []], x_mpf**2))\n",
    "    except (ValueError, mpmath.libmp.libhyper.HypercombError):\n",
    "        return 0.0 \n",
    "\n",
    "def gmeijer2(x):\n",
    "    x_mpf = mpmath.mpf(x)\n",
    "    try:\n",
    "        return float(mpmath.meijerg([[], [2]], [[-1/2, 1/2, 1/2], []], x_mpf**2))\n",
    "    except (ValueError, mpmath.libmp.libhyper.HypercombError):\n",
    "        return 0.0 "
   ]
  },
  {
   "cell_type": "markdown",
   "id": "4a78526f",
   "metadata": {},
   "source": [
    "## Number density of massive fermions"
   ]
  },
  {
   "cell_type": "code",
   "execution_count": 5,
   "id": "6aaa6e3d",
   "metadata": {},
   "outputs": [],
   "source": [
    "def int_n_e(E, m, T):\n",
    "    arg = E / T\n",
    "    arg = np.clip(arg, None, 700)  # Avoid overflow in exp\n",
    "    return E * np.sqrt(E**2 - m**2) / (np.exp(arg) + 1)\n",
    "\n",
    "def n_e(m,T,glib):\n",
    "    int=[]\n",
    "    if m>0:\n",
    "        int.append(sp.integrate.quad(int_n_e,m,m*10,args=(m,T),epsabs=1e-10,epsrel=1e-10,limit=1000)[0])\n",
    "        for i in range(10):\n",
    "            int.append(sp.integrate.quad(int_n_e,m*10**(i+1),m*10**(i+2),args=(m,T),epsabs=1e-10,epsrel=1e-10,limit=1000)[0])\n",
    "        int1=np.sum(int)\n",
    "        return (glib/(2*np.pi**2))*int1\n",
    "    elif m==0:\n",
    "        int.append(sp.integrate.quad(int_n_e,0,1,args=(0,T),epsabs=1e-10,epsrel=1e-10,limit=1000)[0])\n",
    "        for i in range(10):\n",
    "            int.append(sp.integrate.quad(int_n_e,10**i,10**(i+1),args=(0,T),epsabs=1e-10,epsrel=1e-10,limit=1000)[0])\n",
    "        int1=np.sum(int)\n",
    "        return (glib/(2*np.pi**2))*int1\n",
    "    else:\n",
    "        print('Error: Negative mass')\n",
    "        return 0\n",
    "    "
   ]
  },
  {
   "cell_type": "markdown",
   "id": "27de65f0",
   "metadata": {},
   "source": [
    "## Thermodinamical properties of \"massless\" fermions"
   ]
  },
  {
   "cell_type": "code",
   "execution_count": 6,
   "id": "8fe87290",
   "metadata": {},
   "outputs": [],
   "source": [
    "def n_nu(T,glib):                                              # If Dirac fermions glib=4\n",
    "    return 3*glib*sp.special.zeta(3)*T**3/(4*np.pi**2)         # If Majorana fermions glib=2 \n",
    "\n",
    "def rho_nu(T,glib):                                                 # If Dirac fermions glib=4\n",
    "    return (7*glib*np.pi**2*T**4)/(240)                        # If Majorana fermions glib=2 \n",
    "\n",
    "def p_nu(T,glib):\n",
    "    return (1/3)*rho_nu(T,glib)\n",
    "\n",
    "def s_nu(T,glib):\n",
    "    return (4*rho_nu(T,glib))/(3*T)\n",
    "\n",
    "def Y_nu(T,glib):\n",
    "    return n_nu(T,glib)/s_nu(T,glib)    "
   ]
  },
  {
   "cell_type": "markdown",
   "id": "3e424e84",
   "metadata": {},
   "source": [
    "## Electron functions"
   ]
  },
  {
   "cell_type": "markdown",
   "id": "73cc1d89",
   "metadata": {},
   "source": [
    "$$ \\sigma=\\frac{g^2}{16\\pi s^3}\\sqrt{\\frac{s-4m_\\chi^2}{s-4m_e^2}}\\left[s^2+\\frac{(s-4m_e^2)(s-4m_\\chi^2)}{3}+4m_\\chi^2(s-2m_e^2)+4m_e^2(s-2m_\\chi^2)+16m_e^2m_\\chi^2    \\right]$$"
   ]
  },
  {
   "cell_type": "markdown",
   "id": "55be0914",
   "metadata": {},
   "source": [
    "$$<\\sigma v>=\\frac{1}{8 m_\\chi^4 T K_2^2(m_\\chi/T)}\\int_{4\\text{max}(m_e^2,m_\\chi^2)}^\\infty ds\\; \\sigma(s-4m_\\chi^2)\\sqrt{s}K_1(\\sqrt{s}/T) $$"
   ]
  },
  {
   "cell_type": "markdown",
   "id": "761d47fa",
   "metadata": {},
   "source": [
    "$$ \\frac{dY_e}{dx}=\\frac{2<\\sigma v>_en_e^2}{xHs}$$"
   ]
  },
  {
   "cell_type": "code",
   "execution_count": 7,
   "id": "025ac652",
   "metadata": {},
   "outputs": [],
   "source": [
    "def sigma_e(s,g,mchi,me):\n",
    "    sigma1=g**2/(16*pi*s**3)\n",
    "    sigma2=np.sqrt((s-4*mchi**2)/(s-4*me**2))\n",
    "    sigma31=(s**2+((s-4*me**2)*(s-4*mchi**2))/(3))\n",
    "    sigma32=4*mchi**2*(s-2*me**2)\n",
    "    sigma33=4*me**2*(s-2*mchi**2)\n",
    "    sigma34=16*mchi**2*me**2\n",
    "    return sigma1*sigma2*(sigma31+sigma32+sigma33+sigma34)\n",
    "\n",
    "def intsigma_e(s,g,mchi,T,me):\n",
    "    intsigma1=sigma_e(s,g,mchi,me)\n",
    "    intsigma2=(s-4*mchi**2)\n",
    "    intsigma3=np.sqrt(s)\n",
    "    intsigma4=bk(1,np.sqrt(s)/T)\n",
    "    return intsigma1*intsigma2*intsigma3*intsigma4\n",
    "\n",
    "def sigmav_e(g,mchi,T,me):\n",
    "    int=[]\n",
    "    n=30\n",
    "    for i in range(n):\n",
    "        int.append(sp.integrate.quad(intsigma_e,2**(2*i+2)*max(mchi**2,me**2),2**(2*i+4)*max(mchi**2,me**2),args=(g,mchi,T,me),epsabs=1e-10,epsrel=1e-10,limit=1000)[0])\n",
    "    int.append(sp.integrate.quad(intsigma_e,2**(2*n+3)*max(mchi**2,me**2),np.inf,args=(g,mchi,T,me),epsabs=1e-10,epsrel=1e-10,limit=1000)[0])\n",
    "    int2=np.sum(int)\n",
    "    if int2==0.0:\n",
    "        #print(\"Warning: sigmav_e is zero, returning 0\")\n",
    "        return 0.0\n",
    "    c1=8*mchi**4*T*bk(2,mchi/T)**2\n",
    "    return (int2)/c1\n"
   ]
  },
  {
   "cell_type": "code",
   "execution_count": 8,
   "id": "dcc80507",
   "metadata": {},
   "outputs": [],
   "source": [
    "def dYdx_e(y,x,g,mchi,me):\n",
    "    a1=sigmav_e(g,mchi,mchi/x,me)\n",
    "    a2=n_e(me,mchi/x,4)\n",
    "    a3=((2*pi**2)/45)*(mchi/x)**3*g_star_s_interp_func(mchi/x)\n",
    "    a4=(pi*(mchi/x)**2)*np.sqrt(g_star_s_interp_func(mchi/x)/90)/Mpl\n",
    "    return 2*a1*a2**2/(x*a3*a4)"
   ]
  },
  {
   "cell_type": "code",
   "execution_count": 10,
   "id": "0593bf4e",
   "metadata": {},
   "outputs": [
    {
     "name": "stdout",
     "output_type": "stream",
     "text": [
      "Calculating for mchi=10 MeV, g_C=1e-14           1.0 %\n",
      "Calculating for mchi=10 MeV, g_C=1.0722672220103253e-14           2.0 %\n",
      "Calculating for mchi=10 MeV, g_C=1.1497569953977357e-14           3.0 %\n",
      "Calculating for mchi=10 MeV, g_C=1.2328467394420684e-14           4.0 %\n",
      "Calculating for mchi=10 MeV, g_C=1.3219411484660287e-14           5.0 %\n",
      "Calculating for mchi=10 MeV, g_C=1.4174741629268077e-14           6.0 %\n",
      "Calculating for mchi=10 MeV, g_C=1.5199110829529332e-14           7.0 %\n",
      "Calculating for mchi=10 MeV, g_C=1.629750834620647e-14           8.0 %\n",
      "Calculating for mchi=10 MeV, g_C=1.747528400007683e-14           9.0 %\n",
      "Calculating for mchi=10 MeV, g_C=1.8738174228603867e-14           10.0 %\n",
      "Calculating for mchi=10 MeV, g_C=2.009233002565046e-14           11.0 %\n",
      "Calculating for mchi=10 MeV, g_C=2.1544346900318866e-14           12.0 %\n",
      "Calculating for mchi=10 MeV, g_C=2.310129700083158e-14           13.0 %\n",
      "Calculating for mchi=10 MeV, g_C=2.477076355991714e-14           14.0 %\n",
      "Calculating for mchi=10 MeV, g_C=2.656087782946684e-14           15.0 %\n",
      "Calculating for mchi=10 MeV, g_C=2.848035868435805e-14           16.0 %\n",
      "Calculating for mchi=10 MeV, g_C=3.053855508833412e-14           17.0 %\n",
      "Calculating for mchi=10 MeV, g_C=3.2745491628777315e-14           18.0 %\n",
      "Calculating for mchi=10 MeV, g_C=3.5111917342151274e-14           19.0 %\n",
      "Calculating for mchi=10 MeV, g_C=3.7649358067924715e-14           20.0 %\n",
      "Calculating for mchi=10 MeV, g_C=4.03701725859655e-14           21.0 %\n",
      "Calculating for mchi=10 MeV, g_C=4.328761281083062e-14           22.0 %\n",
      "Calculating for mchi=10 MeV, g_C=4.6415888336127726e-14           23.0 %\n",
      "Calculating for mchi=10 MeV, g_C=4.9770235643321137e-14           24.0 %\n",
      "Calculating for mchi=10 MeV, g_C=5.3366992312063014e-14           25.0 %\n",
      "Calculating for mchi=10 MeV, g_C=5.72236765935022e-14           26.0 %\n",
      "Calculating for mchi=10 MeV, g_C=6.135907273413163e-14           27.0 %\n",
      "Calculating for mchi=10 MeV, g_C=6.579332246575682e-14           28.0 %\n",
      "Calculating for mchi=10 MeV, g_C=7.054802310718631e-14           29.0 %\n",
      "Calculating for mchi=10 MeV, g_C=7.564633275546291e-14           30.0 %\n",
      "Calculating for mchi=10 MeV, g_C=8.111308307896889e-14           31.0 %\n",
      "Calculating for mchi=10 MeV, g_C=8.697490026177834e-14           32.0 %\n",
      "Calculating for mchi=10 MeV, g_C=9.32603346883218e-14           33.0 %\n",
      "Calculating for mchi=10 MeV, g_C=1e-13           34.0 %\n",
      "Calculating for mchi=10 MeV, g_C=1.0722672220103254e-13           35.0 %\n",
      "Calculating for mchi=10 MeV, g_C=1.1497569953977357e-13           36.0 %\n",
      "Calculating for mchi=10 MeV, g_C=1.2328467394420634e-13           37.0 %\n",
      "Calculating for mchi=10 MeV, g_C=1.3219411484660287e-13           38.0 %\n",
      "Calculating for mchi=10 MeV, g_C=1.4174741629268076e-13           39.0 %\n",
      "Calculating for mchi=10 MeV, g_C=1.5199110829529332e-13           40.0 %\n",
      "Calculating for mchi=10 MeV, g_C=1.6297508346206467e-13           41.0 %\n",
      "Calculating for mchi=10 MeV, g_C=1.747528400007683e-13           42.0 %\n",
      "Calculating for mchi=10 MeV, g_C=1.8738174228603867e-13           43.0 %\n",
      "Calculating for mchi=10 MeV, g_C=2.009233002565046e-13           44.0 %\n",
      "Calculating for mchi=10 MeV, g_C=2.1544346900318868e-13           45.0 %\n",
      "Calculating for mchi=10 MeV, g_C=2.310129700083158e-13           46.0 %\n",
      "Calculating for mchi=10 MeV, g_C=2.477076355991714e-13           47.0 %\n",
      "Calculating for mchi=10 MeV, g_C=2.6560877829466837e-13           48.0 %\n",
      "Calculating for mchi=10 MeV, g_C=2.848035868435805e-13           49.0 %\n",
      "Calculating for mchi=10 MeV, g_C=3.0538555088334123e-13           50.0 %\n",
      "Calculating for mchi=10 MeV, g_C=3.2745491628777316e-13           51.0 %\n",
      "Calculating for mchi=10 MeV, g_C=3.5111917342151276e-13           52.0 %\n",
      "Calculating for mchi=10 MeV, g_C=3.7649358067924714e-13           53.0 %\n",
      "Calculating for mchi=10 MeV, g_C=4.0370172585965495e-13           54.0 %\n",
      "Calculating for mchi=10 MeV, g_C=4.3287612810830614e-13           55.0 %\n",
      "Calculating for mchi=10 MeV, g_C=4.641588833612772e-13           56.0 %\n",
      "Calculating for mchi=10 MeV, g_C=4.977023564332114e-13           57.0 %\n",
      "Calculating for mchi=10 MeV, g_C=5.336699231206301e-13           58.0 %\n",
      "Calculating for mchi=10 MeV, g_C=5.72236765935022e-13           59.0 %\n",
      "Calculating for mchi=10 MeV, g_C=6.135907273413163e-13           60.0 %\n",
      "Calculating for mchi=10 MeV, g_C=6.579332246575683e-13           61.0 %\n",
      "Calculating for mchi=10 MeV, g_C=7.054802310718631e-13           62.0 %\n",
      "Calculating for mchi=10 MeV, g_C=7.564633275546291e-13           63.0 %\n",
      "Calculating for mchi=10 MeV, g_C=8.111308307896889e-13           64.0 %\n",
      "Calculating for mchi=10 MeV, g_C=8.697490026177834e-13           65.0 %\n",
      "Calculating for mchi=10 MeV, g_C=9.32603346883218e-13           66.0 %\n",
      "Calculating for mchi=10 MeV, g_C=1e-12           67.0 %\n",
      "Calculating for mchi=10 MeV, g_C=1.0722672220103254e-12           68.0 %\n",
      "Calculating for mchi=10 MeV, g_C=1.1497569953977357e-12           69.0 %\n",
      "Calculating for mchi=10 MeV, g_C=1.2328467394420634e-12           70.0 %\n",
      "Calculating for mchi=10 MeV, g_C=1.3219411484660287e-12           71.0 %\n",
      "Calculating for mchi=10 MeV, g_C=1.4174741629268076e-12           72.0 %\n",
      "Calculating for mchi=10 MeV, g_C=1.5199110829529332e-12           73.0 %\n",
      "Calculating for mchi=10 MeV, g_C=1.6297508346206468e-12           74.0 %\n",
      "Calculating for mchi=10 MeV, g_C=1.747528400007683e-12           75.0 %\n",
      "Calculating for mchi=10 MeV, g_C=1.873817422860387e-12           76.0 %\n",
      "Calculating for mchi=10 MeV, g_C=2.009233002565046e-12           77.0 %\n",
      "Calculating for mchi=10 MeV, g_C=2.1544346900318868e-12           78.0 %\n",
      "Calculating for mchi=10 MeV, g_C=2.310129700083158e-12           79.0 %\n",
      "Calculating for mchi=10 MeV, g_C=2.477076355991714e-12           80.0 %\n",
      "Calculating for mchi=10 MeV, g_C=2.656087782946684e-12           81.0 %\n",
      "Calculating for mchi=10 MeV, g_C=2.848035868435805e-12           82.0 %\n",
      "Calculating for mchi=10 MeV, g_C=3.0538555088334124e-12           83.0 %\n",
      "Calculating for mchi=10 MeV, g_C=3.274549162877732e-12           84.0 %\n",
      "Calculating for mchi=10 MeV, g_C=3.5111917342151276e-12           85.0 %\n",
      "Calculating for mchi=10 MeV, g_C=3.7649358067924715e-12           86.0 %\n",
      "Calculating for mchi=10 MeV, g_C=4.03701725859655e-12           87.0 %\n",
      "Calculating for mchi=10 MeV, g_C=4.328761281083061e-12           88.0 %\n",
      "Calculating for mchi=10 MeV, g_C=4.641588833612792e-12           89.0 %\n",
      "Calculating for mchi=10 MeV, g_C=4.9770235643321135e-12           90.0 %\n",
      "Calculating for mchi=10 MeV, g_C=5.336699231206302e-12           91.0 %\n",
      "Calculating for mchi=10 MeV, g_C=5.72236765935022e-12           92.0 %\n",
      "Calculating for mchi=10 MeV, g_C=6.135907273413188e-12           93.0 %\n",
      "Calculating for mchi=10 MeV, g_C=6.579332246575682e-12           94.0 %\n",
      "Calculating for mchi=10 MeV, g_C=7.054802310718631e-12           95.0 %\n",
      "Calculating for mchi=10 MeV, g_C=7.56463327554629e-12           96.0 %\n",
      "Calculating for mchi=10 MeV, g_C=8.111308307896889e-12           97.0 %\n",
      "Calculating for mchi=10 MeV, g_C=8.697490026177835e-12           98.0 %\n",
      "Calculating for mchi=10 MeV, g_C=9.32603346883218e-12           99.0 %\n",
      "Calculating for mchi=10 MeV, g_C=1e-11           100.0 %\n"
     ]
    }
   ],
   "source": [
    "mchi=[10]\n",
    "x=np.logspace(-8,2,2000)\n",
    "g_charge=np.logspace(-14,-11,100)  # Adjusted to match the range of mchi\n",
    "contador=1\n",
    "temp1=[]\n",
    "temp2=[]\n",
    "temp3=[]\n",
    "\n",
    "for i in range(len(mchi)):\n",
    "    temp2=[]\n",
    "    for j in range(len(g_charge)):\n",
    "        temp1=[]\n",
    "        for k in range(len(m_charge)):\n",
    "            y_charge=sp.integrate.odeint(dYdx_e, y0, x, args=(g_charge[j], mchi[i], m_charge[k]), rtol=1e-15, atol=1e-15, mxstep=10000)\n",
    "            temp1.append(y_charge)\n",
    "        temp2.append(np.sum(temp1, axis=0))\n",
    "        print(f\"Calculating for mchi={mchi[i]} MeV, g_C={g_charge[j]}          \", 100*contador/(len(g_charge)*len(mchi)),\"%\")\n",
    "        contador=contador+1\n",
    "    temp3.append(temp2)"
   ]
  },
  {
   "cell_type": "code",
   "execution_count": 11,
   "id": "060b2d75",
   "metadata": {},
   "outputs": [],
   "source": [
    "for j in range(len(mchi)):\n",
    "    yvals = [temp3[j][i][-1] for i in range(len(g_charge))]\n",
    "    xvals = [g_charge[i] for i in range(len(g_charge))]\n",
    "\n",
    "    data=np.column_stack((xvals, yvals))\n",
    "    np.savetxt(f\"gCvsgnu_mchi_{mchi[j]:.3g}.txt\", data, header=\"g_C Final_Yield\", fmt=\"%.6e\")\n",
    "\n"
   ]
  }
 ],
 "metadata": {
  "kernelspec": {
   "display_name": "base",
   "language": "python",
   "name": "python3"
  },
  "language_info": {
   "codemirror_mode": {
    "name": "ipython",
    "version": 3
   },
   "file_extension": ".py",
   "mimetype": "text/x-python",
   "name": "python",
   "nbconvert_exporter": "python",
   "pygments_lexer": "ipython3",
   "version": "3.12.2"
  }
 },
 "nbformat": 4,
 "nbformat_minor": 5
}
